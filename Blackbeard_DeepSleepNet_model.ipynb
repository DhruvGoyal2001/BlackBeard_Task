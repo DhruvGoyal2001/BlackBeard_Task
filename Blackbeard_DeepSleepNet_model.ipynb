{
  "nbformat": 4,
  "nbformat_minor": 0,
  "metadata": {
    "colab": {
      "name": "Blackbeard.ipynb",
      "provenance": [],
      "authorship_tag": "ABX9TyMsGo3Hp32rrv69zqcfTmPq",
      "include_colab_link": true
    },
    "kernelspec": {
      "display_name": "Python 3",
      "name": "python3"
    },
    "language_info": {
      "name": "python"
    }
  },
  "cells": [
    {
      "cell_type": "markdown",
      "metadata": {
        "id": "view-in-github",
        "colab_type": "text"
      },
      "source": [
        "<a href=\"https://colab.research.google.com/github/DhruvGoyal2001/BlackBeard_Task/blob/main/Blackbeard_DeepSleepNet_model.ipynb\" target=\"_parent\"><img src=\"https://colab.research.google.com/assets/colab-badge.svg\" alt=\"Open In Colab\"/></a>"
      ]
    },
    {
      "cell_type": "code",
      "metadata": {
        "id": "ZQ1Pp0jQylhU"
      },
      "source": [
        "!pip install --force-reinstall pandas==0.25.3\n",
        "!pip install --force-reinstall mne==0.20.0\n",
        "!pip install --force-reinstall scipy==1.4.1\n",
        "!pip install --force-reinstall numpy==1.18.2\n",
        "!pip install --force-reinstall matplotlib==1.5.3\n",
        "!pip install --force-reinstall scikit-learn==0.19.1\n",
        "!pip install --force-reinstall tensorflow==1.15.2"
      ],
      "execution_count": null,
      "outputs": []
    },
    {
      "cell_type": "code",
      "metadata": {
        "id": "QihCf2Bmx214"
      },
      "source": [
        "!pip install -U mne"
      ],
      "execution_count": null,
      "outputs": []
    },
    {
      "cell_type": "code",
      "metadata": {
        "id": "wUNFe6XKi5ff"
      },
      "source": [
        "!wget -r -N -c -np https://physionet.org/files/sleep-edfx/1.0.0/"
      ],
      "execution_count": null,
      "outputs": []
    },
    {
      "cell_type": "code",
      "metadata": {
        "id": "tQCWUmGrlrJr"
      },
      "source": [
        "!git clone https://github.com/akaraspt/deepsleepnet.git"
      ],
      "execution_count": null,
      "outputs": []
    },
    {
      "cell_type": "code",
      "metadata": {
        "id": "CqQJjAL8s2vn"
      },
      "source": [
        "import os\n",
        "os.chdir('/content/deepsleepnet/data')"
      ],
      "execution_count": 3,
      "outputs": []
    },
    {
      "cell_type": "code",
      "metadata": {
        "id": "Lf4dJy3Is3Bj"
      },
      "source": [
        "!chmod +x download_physionet.sh\n",
        "!./download_physionet.sh\n"
      ],
      "execution_count": null,
      "outputs": []
    },
    {
      "cell_type": "code",
      "metadata": {
        "colab": {
          "base_uri": "https://localhost:8080/"
        },
        "id": "k05NMANVz9ym",
        "outputId": "960f230d-58c7-401b-c328-c811412ced49"
      },
      "source": [
        "!pwd"
      ],
      "execution_count": null,
      "outputs": [
        {
          "name": "stdout",
          "output_type": "stream",
          "text": [
            "/content/deepsleepnet\n"
          ]
        }
      ]
    },
    {
      "cell_type": "code",
      "metadata": {
        "id": "tx2Msa-PvPJq"
      },
      "source": [
        "os.chdir('/content/deepsleepnet')\n",
        "!python prepare_physionet.py --data_dir data --output_dir data/eeg_fpz_cz --select_ch 'EEG Fpz-Cz'\n",
        "!python prepare_physionet.py --data_dir data --output_dir data/eeg_pz_oz --select_ch 'EEG Pz-Oz'\n"
      ],
      "execution_count": null,
      "outputs": []
    },
    {
      "cell_type": "code",
      "metadata": {
        "colab": {
          "background_save": true,
          "base_uri": "https://localhost:8080/"
        },
        "id": "fVRspqNhR0ro",
        "outputId": "1a29a619-e17e-4118-cc32-d508ebe57796"
      },
      "source": [
        "!python train.py --data_dir data/eeg_fpz_cz --output_dir output --n_folds 20 --fold_idx 0 --pretrain_epochs 80 --finetune_epochs 100 --resume False\n"
      ],
      "execution_count": null,
      "outputs": [
        {
          "output_type": "stream",
          "name": "stdout",
          "text": [
            "2021-10-08 00:40:56.832985: I tensorflow/core/platform/cpu_feature_guard.cc:142] Your CPU supports instructions that this TensorFlow binary was not compiled to use: AVX2 FMA\n",
            "2021-10-08 00:40:56.882473: I tensorflow/core/platform/profile_utils/cpu_utils.cc:94] CPU Frequency: 2199995000 Hz\n",
            "2021-10-08 00:40:56.882825: I tensorflow/compiler/xla/service/service.cc:168] XLA service 0x55b6eab2c380 initialized for platform Host (this does not guarantee that XLA will be used). Devices:\n",
            "2021-10-08 00:40:56.882862: I tensorflow/compiler/xla/service/service.cc:176]   StreamExecutor device (0): Host, Default Version\n",
            "WARNING:tensorflow:From /content/deepsleepnet/deepsleep/model.py:87: calling dropout (from tensorflow.python.ops.nn_ops) with keep_prob is deprecated and will be removed in a future version.\n",
            "Instructions for updating:\n",
            "Please use `rate` instead of `keep_prob`. Rate should be set to `rate = 1 - keep_prob`.\n",
            "W1008 00:40:56.977177 140500299827072 deprecation.py:506] From /content/deepsleepnet/deepsleep/model.py:87: calling dropout (from tensorflow.python.ops.nn_ops) with keep_prob is deprecated and will be removed in a future version.\n",
            "Instructions for updating:\n",
            "Please use `rate` instead of `keep_prob`. Rate should be set to `rate = 1 - keep_prob`.\n",
            "Network (layers=19)\n",
            "inputs (x_train_inputs:0): (100, 3000, 1, 1)\n",
            "targets (x_train_targets:0): (100,)\n",
            "l1_conv (deepfeaturenet/l1_conv/relu:0): (100, 500, 1, 64)\n",
            "l2_pool (deepfeaturenet/l2_pool:0): (100, 63, 1, 64)\n",
            "l3_dropout (deepfeaturenet/l3_dropout/mul_1:0): (100, 63, 1, 64)\n",
            "l4_conv (deepfeaturenet/l4_conv/relu:0): (100, 63, 1, 128)\n",
            "l5_conv (deepfeaturenet/l5_conv/relu:0): (100, 63, 1, 128)\n",
            "l6_conv (deepfeaturenet/l6_conv/relu:0): (100, 63, 1, 128)\n",
            "l7_pool (deepfeaturenet/l7_pool:0): (100, 16, 1, 128)\n",
            "l8_flat (deepfeaturenet/l8_flat:0): (100, 2048)\n",
            "l9_conv (deepfeaturenet/l9_conv/relu:0): (100, 60, 1, 64)\n",
            "l10_pool (deepfeaturenet/l10_pool:0): (100, 15, 1, 64)\n",
            "l11_dropout (deepfeaturenet/l11_dropout/mul_1:0): (100, 15, 1, 64)\n",
            "l12_conv (deepfeaturenet/l12_conv/relu:0): (100, 15, 1, 128)\n",
            "l13_conv (deepfeaturenet/l13_conv/relu:0): (100, 15, 1, 128)\n",
            "l14_conv (deepfeaturenet/l14_conv/relu:0): (100, 15, 1, 128)\n",
            "l15_pool (deepfeaturenet/l15_pool:0): (100, 8, 1, 128)\n",
            "l16_flat (deepfeaturenet/l16_flat:0): (100, 1024)\n",
            "l17_concat (deepfeaturenet/l17_concat:0): (100, 3072)\n",
            "l18_dropout (deepfeaturenet/l18_dropout/mul_1:0): (100, 3072)\n",
            "l19_softmax_linear (deepfeaturenet/l19_softmax_linear/Add:0): (100, 5)\n",
            " \n",
            "[2021-10-08 00:40:58.934776] Start pre-training ...\n",
            "\n",
            "\n",
            "========== [Fold-0] ==========\n",
            "\n",
            "Load training set:\n",
            "Loading data/eeg_fpz_cz/SC4011E0.npz ...\n",
            "Loading data/eeg_fpz_cz/SC4012E0.npz ...\n",
            "Loading data/eeg_fpz_cz/SC4021E0.npz ...\n",
            "Loading data/eeg_fpz_cz/SC4022E0.npz ...\n",
            "Loading data/eeg_fpz_cz/SC4031E0.npz ...\n",
            "Loading data/eeg_fpz_cz/SC4032E0.npz ...\n",
            "Loading data/eeg_fpz_cz/SC4041E0.npz ...\n",
            "Loading data/eeg_fpz_cz/SC4042E0.npz ...\n",
            "Loading data/eeg_fpz_cz/SC4051E0.npz ...\n",
            "Loading data/eeg_fpz_cz/SC4052E0.npz ...\n",
            "Loading data/eeg_fpz_cz/SC4061E0.npz ...\n",
            "Loading data/eeg_fpz_cz/SC4062E0.npz ...\n",
            "Loading data/eeg_fpz_cz/SC4071E0.npz ...\n",
            "Loading data/eeg_fpz_cz/SC4072E0.npz ...\n",
            "Loading data/eeg_fpz_cz/SC4081E0.npz ...\n",
            "Loading data/eeg_fpz_cz/SC4082E0.npz ...\n",
            "Loading data/eeg_fpz_cz/SC4091E0.npz ...\n",
            "Loading data/eeg_fpz_cz/SC4092E0.npz ...\n",
            "Loading data/eeg_fpz_cz/SC4101E0.npz ...\n",
            "Loading data/eeg_fpz_cz/SC4102E0.npz ...\n",
            "Loading data/eeg_fpz_cz/SC4111E0.npz ...\n",
            "Loading data/eeg_fpz_cz/SC4112E0.npz ...\n",
            "Loading data/eeg_fpz_cz/SC4121E0.npz ...\n",
            "Loading data/eeg_fpz_cz/SC4122E0.npz ...\n",
            "Loading data/eeg_fpz_cz/SC4131E0.npz ...\n",
            "Loading data/eeg_fpz_cz/SC4141E0.npz ...\n",
            "Loading data/eeg_fpz_cz/SC4142E0.npz ...\n",
            "Loading data/eeg_fpz_cz/SC4151E0.npz ...\n",
            "Loading data/eeg_fpz_cz/SC4152E0.npz ...\n",
            "Loading data/eeg_fpz_cz/SC4161E0.npz ...\n",
            "Loading data/eeg_fpz_cz/SC4162E0.npz ...\n",
            "Loading data/eeg_fpz_cz/SC4171E0.npz ...\n",
            "Loading data/eeg_fpz_cz/SC4172E0.npz ...\n",
            "Loading data/eeg_fpz_cz/SC4181E0.npz ...\n",
            "Loading data/eeg_fpz_cz/SC4182E0.npz ...\n",
            "Loading data/eeg_fpz_cz/SC4191E0.npz ...\n",
            "Loading data/eeg_fpz_cz/SC4192E0.npz ...\n",
            " \n",
            "Load validation set:\n",
            "Loading data/eeg_fpz_cz/SC4001E0.npz ...\n",
            "Loading data/eeg_fpz_cz/SC4002E0.npz ...\n",
            " \n",
            "Training set: (40340, 3000, 1, 1), (40340,)\n",
            "W: 7914\n",
            "N1: 2687\n",
            "N2: 17176\n",
            "N3: 5186\n",
            "REM: 7377\n",
            " \n",
            "Validation set: (1968, 3000, 1, 1), (1968,)\n",
            "W: 371\n",
            "N1: 117\n",
            "N2: 623\n",
            "N3: 517\n",
            "REM: 340\n",
            " \n",
            "Oversampled training set: (85880, 3000, 1, 1), (85880,)\n",
            "W: 17176\n",
            "N1: 17176\n",
            "N2: 17176\n",
            "N3: 17176\n",
            "REM: 17176\n",
            " \n",
            "epoch 1: train (564.21 sec): n=85800, loss=1.181 (0.048), acc=0.549, f1=0.549 | valid (3.60 sec): n=1900, loss=2.919 (0.048), acc=0.332, f1=0.208\n",
            "epoch 2: train (564.96 sec): n=85800, loss=0.855 (0.047), acc=0.665, f1=0.665 | valid (3.59 sec): n=1900, loss=1.101 (0.047), acc=0.626, f1=0.484\n",
            "epoch 3: train (574.32 sec): n=85800, loss=0.728 (0.045), acc=0.723, f1=0.724 | valid (3.60 sec): n=1900, loss=0.813 (0.045), acc=0.741, f1=0.595\n",
            "epoch 4: train (580.82 sec): n=85800, loss=0.671 (0.043), acc=0.749, f1=0.750 | valid (3.60 sec): n=1900, loss=0.677 (0.043), acc=0.792, f1=0.652\n",
            "epoch 5: train (579.20 sec): n=85800, loss=0.635 (0.041), acc=0.761, f1=0.762 | valid (3.64 sec): n=1900, loss=0.725 (0.041), acc=0.784, f1=0.643\n",
            "epoch 6: train (574.23 sec): n=85800, loss=0.613 (0.039), acc=0.771, f1=0.771 | valid (3.60 sec): n=1900, loss=0.684 (0.039), acc=0.781, f1=0.654\n",
            "epoch 7: train (571.01 sec): n=85800, loss=0.588 (0.038), acc=0.781, f1=0.782 | valid (3.59 sec): n=1900, loss=0.915 (0.038), acc=0.719, f1=0.580\n",
            "epoch 8: train (570.41 sec): n=85800, loss=0.572 (0.036), acc=0.788, f1=0.789 | valid (3.66 sec): n=1900, loss=0.681 (0.036), acc=0.770, f1=0.656\n",
            "epoch 9: train (570.20 sec): n=85800, loss=0.558 (0.034), acc=0.792, f1=0.792 | valid (3.66 sec): n=1900, loss=0.690 (0.034), acc=0.782, f1=0.649\n",
            " \n",
            "[2021-10-08 02:17:04.237590] epoch 10:\n",
            "train (572.210 sec): n=85800, loss=0.542 (0.033), acc=0.800, f1=0.800\n",
            "[[14598  2039   137    71   311]\n",
            " [ 1244 11419  1397    72  3027]\n",
            " [  154  1237 13422  1130  1219]\n",
            " [   78    28   893 16121    40]\n",
            " [  316  2842   915    22 13068]]\n",
            "valid (3.621 sec): n=1900, loss=0.736 (0.033), acc=0.754, f1=0.624\n",
            "[[ 92  95   0  11 113]\n",
            " [  0  20   7   1  89]\n",
            " [  0   5 503  22  85]\n",
            " [  0   0  28 486   3]\n",
            " [  0   6   2   0 332]]\n",
            " \n",
            "epoch 11: train (573.35 sec): n=85800, loss=0.528 (0.032), acc=0.805, f1=0.806 | valid (3.67 sec): n=1900, loss=0.532 (0.032), acc=0.821, f1=0.717\n",
            "epoch 12: train (574.52 sec): n=85800, loss=0.517 (0.030), acc=0.811, f1=0.811 | valid (3.67 sec): n=1900, loss=0.522 (0.030), acc=0.809, f1=0.723\n"
          ]
        }
      ]
    },
    {
      "cell_type": "code",
      "metadata": {
        "id": "bae24FxKOUtO"
      },
      "source": [
        "!python predict.py --data_dir data/eeg_fpz_cz --model_dir output --output_dir output"
      ],
      "execution_count": null,
      "outputs": []
    },
    {
      "cell_type": "code",
      "metadata": {
        "id": "_l1lb-eGbrZ8"
      },
      "source": [
        "!python summary.py --data_dir output"
      ],
      "execution_count": null,
      "outputs": []
    }
  ]
}